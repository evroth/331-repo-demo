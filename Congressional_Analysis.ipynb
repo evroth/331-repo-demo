{
  "nbformat": 4,
  "nbformat_minor": 0,
  "metadata": {
    "colab": {
      "provenance": [],
      "authorship_tag": "ABX9TyPTZy7DVS1A2Ay2VY1u27A/",
      "include_colab_link": true
    },
    "kernelspec": {
      "name": "python3",
      "display_name": "Python 3"
    },
    "language_info": {
      "name": "python"
    }
  },
  "cells": [
    {
      "cell_type": "markdown",
      "metadata": {
        "id": "view-in-github",
        "colab_type": "text"
      },
      "source": [
        "<a href=\"https://colab.research.google.com/github/evroth/Congressional_Analytics/blob/main/Congressional_Analysis.ipynb\" target=\"_parent\"><img src=\"https://colab.research.google.com/assets/colab-badge.svg\" alt=\"Open In Colab\"/></a>"
      ]
    },
    {
      "cell_type": "markdown",
      "source": [
        "# Hypothesis:\n",
        "Blue Districts will have more starbucks per person than Red Districts. \n"
      ],
      "metadata": {
        "id": "cY2KSST-dKUK"
      }
    },
    {
      "cell_type": "markdown",
      "source": [
        "## About:\n",
        "\n",
        "This document contais the content for our first project in the Cloud Computing Class. The analysis below goes attempts to look at the number of starbucks locations per person in each congressional district, then look at whether the district is red or blue.\n",
        "\n",
        "We will gather data for Starbucks locations off of Kaggle (Feb 2017, https://www.kaggle.com/datasets/starbucks/store-locations?resource=download).\n",
        "\n",
        "Census data from Census.gov for Total Population, District Number, and State (https://www.census.gov/data/developers/data-sets/acs-1year.html).\n",
        "\n",
        "Lastly data from some source on Political Affiliation, State, and District Number(http://goodcsv.com/politics/us-house-of-representatives-2020/). This could be an issue because it is the 2020 reps, not 2017 which we should look for.\n",
        "\n",
        "We will do some EDA and merge the datasets together to perform our analysis.\n",
        "The initial shape file I found is from https://cdmaps.polisci.ucla.edu/.\n"
      ],
      "metadata": {
        "id": "rRi4GSf-69rq"
      }
    },
    {
      "cell_type": "markdown",
      "source": [
        "The first step here will be to get our data on Starbucks locations, note that you will need to download this file from Kaggle to the files colab can access for this to work."
      ],
      "metadata": {
        "id": "Cz01OInkK5Qc"
      }
    },
    {
      "cell_type": "code",
      "execution_count": 17,
      "metadata": {
        "colab": {
          "base_uri": "https://localhost:8080/"
        },
        "id": "DAvWtxztmZ71",
        "outputId": "ca2a6f52-86ec-44c5-d433-7cc4a8624b3a"
      },
      "outputs": [
        {
          "output_type": "stream",
          "name": "stdout",
          "text": [
            "       Store Number State/Province  Longitude  Latitude\n",
            "11964   3513-125945             AK    -149.78     61.21\n",
            "11965   74352-84449             AK    -149.84     61.14\n",
            "11966  12449-152385             AK    -149.85     61.11\n",
            "11967  24936-233524             AK    -149.89     61.13\n",
            "11968    8973-85630             AK    -149.86     61.14\n",
            "...             ...            ...        ...       ...\n",
            "25567   74385-87621             WY    -105.59     41.32\n",
            "25568   73320-24375             WY    -105.56     41.31\n",
            "25569  22425-219024             WY    -105.56     41.31\n",
            "25570  10849-103163             WY    -109.25     41.58\n",
            "25571  10769-102454             WY    -106.94     44.77\n",
            "\n",
            "[13608 rows x 4 columns]\n"
          ]
        }
      ],
      "source": [
        "# starbucks locations\n",
        "## I am not sure how to always have this data downloaded, might need to re-upload it to colab every time?\n",
        "import pandas as pd\n",
        "from geopy.geocoders import Nominatim\n",
        "\n",
        "# read store location data into a dataframe\n",
        "store_df = pd.read_csv(\"starbucks_locations.csv\")\n",
        "\n",
        "# select only US stores\n",
        "store_df = store_df[store_df['Country'] == \"US\"]\n",
        "\n",
        "# Select the \"Store Number\", \"State/Province\", \"Longitude\", and \"Latitude\" columns\n",
        "store_df = store_df[[\"Store Number\", \"State/Province\", \"Longitude\", \"Latitude\"]]\n",
        "\n",
        "# print the dataframe\n",
        "print(store_df)"
      ]
    },
    {
      "cell_type": "markdown",
      "source": [
        "These next two chunks install libraries and download the zipfile for district shapes."
      ],
      "metadata": {
        "id": "TnimKc1GTBtO"
      }
    },
    {
      "cell_type": "code",
      "source": [
        "# Install Library\n",
        "%%capture\n",
        "!apt install libspatialindex-dev\n",
        "!pip install rtree\n",
        "!pip install geopandas\n",
        "import geopandas as gpd"
      ],
      "metadata": {
        "id": "SniBUoiQCi_e"
      },
      "execution_count": 18,
      "outputs": []
    },
    {
      "cell_type": "code",
      "source": [
        "from io import BytesIO\n",
        "from urllib.request import urlopen\n",
        "from zipfile import ZipFile\n",
        "\n",
        "zipurl = 'https://cdmaps.polisci.ucla.edu/shp/districts114.zip'\n",
        "\n",
        "with urlopen(zipurl) as zipresp:\n",
        "    with ZipFile(BytesIO(zipresp.read())) as zfile:\n",
        "        zfile.extractall()"
      ],
      "metadata": {
        "id": "Ebmot5qDQX91"
      },
      "execution_count": 13,
      "outputs": []
    },
    {
      "cell_type": "markdown",
      "source": [
        "Here we use geopandas to find what Congressional District each store is located in."
      ],
      "metadata": {
        "id": "OAK-oN9MLA0q"
      }
    },
    {
      "cell_type": "code",
      "source": [
        "# Convert Lat and Long to Congressional Districts\n",
        "import geopandas as gpd\n",
        "\n",
        "# convert the store location data into a geodataframe\n",
        "store_gdf = gpd.GeoDataFrame(store_df, geometry=gpd.points_from_xy(store_df.Longitude, store_df.Latitude))\n",
        "\n",
        "# read congressional district data into a geodataframe\n",
        "district_gdf = gpd.read_file(\"/content/districtShapes/districts114.shp\")\n",
        "\n",
        "# merge the store location data with the congressional district data\n",
        "merged_gdf = gpd.sjoin(store_gdf, district_gdf, op='within')\n",
        "\n",
        "# select only the columns we need\n",
        "merged_gdf = merged_gdf[[\"Store Number\", \"State/Province\", \"STATENAME\", \"DISTRICT\"]]\n",
        "\n",
        "# print the merged data\n",
        "merged_gdf.head(100)"
      ],
      "metadata": {
        "id": "7GFeJ7W-BpWy",
        "colab": {
          "base_uri": "https://localhost:8080/",
          "height": 604
        },
        "outputId": "2371c90f-f4cf-4289-fabb-cb0f81c29538"
      },
      "execution_count": 21,
      "outputs": [
        {
          "output_type": "stream",
          "name": "stderr",
          "text": [
            "/usr/local/lib/python3.8/dist-packages/IPython/core/interactiveshell.py:3249: FutureWarning: The `op` parameter is deprecated and will be removed in a future release. Please use the `predicate` parameter instead.\n",
            "  if (await self.run_code(code, result,  async_=asy)):\n",
            "<ipython-input-21-9ea47f299da6>:11: UserWarning: CRS mismatch between the CRS of left geometries and the CRS of right geometries.\n",
            "Use `to_crs()` to reproject one of the input geometries to match the CRS of the other.\n",
            "\n",
            "Left CRS: None\n",
            "Right CRS: EPSG:4269\n",
            "\n",
            "  merged_gdf = gpd.sjoin(store_gdf, district_gdf, op='within')\n"
          ]
        },
        {
          "output_type": "execute_result",
          "data": {
            "text/plain": [
              "       Store Number State/Province STATENAME DISTRICT\n",
              "11964   3513-125945             AK    Alaska        0\n",
              "11965   74352-84449             AK    Alaska        0\n",
              "11966  12449-152385             AK    Alaska        0\n",
              "11967  24936-233524             AK    Alaska        0\n",
              "11968    8973-85630             AK    Alaska        0\n",
              "...             ...            ...       ...      ...\n",
              "12086  76606-101463             AL   Alabama        3\n",
              "12087    9738-97528             AL   Alabama        3\n",
              "12023  24427-237908             AL   Alabama        7\n",
              "12024  18675-189964             AL   Alabama        7\n",
              "12025  11083-104088             AL   Alabama        7\n",
              "\n",
              "[100 rows x 4 columns]"
            ],
            "text/html": [
              "\n",
              "  <div id=\"df-6b595f68-c95d-4baf-b49e-ff02d7971522\">\n",
              "    <div class=\"colab-df-container\">\n",
              "      <div>\n",
              "<style scoped>\n",
              "    .dataframe tbody tr th:only-of-type {\n",
              "        vertical-align: middle;\n",
              "    }\n",
              "\n",
              "    .dataframe tbody tr th {\n",
              "        vertical-align: top;\n",
              "    }\n",
              "\n",
              "    .dataframe thead th {\n",
              "        text-align: right;\n",
              "    }\n",
              "</style>\n",
              "<table border=\"1\" class=\"dataframe\">\n",
              "  <thead>\n",
              "    <tr style=\"text-align: right;\">\n",
              "      <th></th>\n",
              "      <th>Store Number</th>\n",
              "      <th>State/Province</th>\n",
              "      <th>STATENAME</th>\n",
              "      <th>DISTRICT</th>\n",
              "    </tr>\n",
              "  </thead>\n",
              "  <tbody>\n",
              "    <tr>\n",
              "      <th>11964</th>\n",
              "      <td>3513-125945</td>\n",
              "      <td>AK</td>\n",
              "      <td>Alaska</td>\n",
              "      <td>0</td>\n",
              "    </tr>\n",
              "    <tr>\n",
              "      <th>11965</th>\n",
              "      <td>74352-84449</td>\n",
              "      <td>AK</td>\n",
              "      <td>Alaska</td>\n",
              "      <td>0</td>\n",
              "    </tr>\n",
              "    <tr>\n",
              "      <th>11966</th>\n",
              "      <td>12449-152385</td>\n",
              "      <td>AK</td>\n",
              "      <td>Alaska</td>\n",
              "      <td>0</td>\n",
              "    </tr>\n",
              "    <tr>\n",
              "      <th>11967</th>\n",
              "      <td>24936-233524</td>\n",
              "      <td>AK</td>\n",
              "      <td>Alaska</td>\n",
              "      <td>0</td>\n",
              "    </tr>\n",
              "    <tr>\n",
              "      <th>11968</th>\n",
              "      <td>8973-85630</td>\n",
              "      <td>AK</td>\n",
              "      <td>Alaska</td>\n",
              "      <td>0</td>\n",
              "    </tr>\n",
              "    <tr>\n",
              "      <th>...</th>\n",
              "      <td>...</td>\n",
              "      <td>...</td>\n",
              "      <td>...</td>\n",
              "      <td>...</td>\n",
              "    </tr>\n",
              "    <tr>\n",
              "      <th>12086</th>\n",
              "      <td>76606-101463</td>\n",
              "      <td>AL</td>\n",
              "      <td>Alabama</td>\n",
              "      <td>3</td>\n",
              "    </tr>\n",
              "    <tr>\n",
              "      <th>12087</th>\n",
              "      <td>9738-97528</td>\n",
              "      <td>AL</td>\n",
              "      <td>Alabama</td>\n",
              "      <td>3</td>\n",
              "    </tr>\n",
              "    <tr>\n",
              "      <th>12023</th>\n",
              "      <td>24427-237908</td>\n",
              "      <td>AL</td>\n",
              "      <td>Alabama</td>\n",
              "      <td>7</td>\n",
              "    </tr>\n",
              "    <tr>\n",
              "      <th>12024</th>\n",
              "      <td>18675-189964</td>\n",
              "      <td>AL</td>\n",
              "      <td>Alabama</td>\n",
              "      <td>7</td>\n",
              "    </tr>\n",
              "    <tr>\n",
              "      <th>12025</th>\n",
              "      <td>11083-104088</td>\n",
              "      <td>AL</td>\n",
              "      <td>Alabama</td>\n",
              "      <td>7</td>\n",
              "    </tr>\n",
              "  </tbody>\n",
              "</table>\n",
              "<p>100 rows × 4 columns</p>\n",
              "</div>\n",
              "      <button class=\"colab-df-convert\" onclick=\"convertToInteractive('df-6b595f68-c95d-4baf-b49e-ff02d7971522')\"\n",
              "              title=\"Convert this dataframe to an interactive table.\"\n",
              "              style=\"display:none;\">\n",
              "        \n",
              "  <svg xmlns=\"http://www.w3.org/2000/svg\" height=\"24px\"viewBox=\"0 0 24 24\"\n",
              "       width=\"24px\">\n",
              "    <path d=\"M0 0h24v24H0V0z\" fill=\"none\"/>\n",
              "    <path d=\"M18.56 5.44l.94 2.06.94-2.06 2.06-.94-2.06-.94-.94-2.06-.94 2.06-2.06.94zm-11 1L8.5 8.5l.94-2.06 2.06-.94-2.06-.94L8.5 2.5l-.94 2.06-2.06.94zm10 10l.94 2.06.94-2.06 2.06-.94-2.06-.94-.94-2.06-.94 2.06-2.06.94z\"/><path d=\"M17.41 7.96l-1.37-1.37c-.4-.4-.92-.59-1.43-.59-.52 0-1.04.2-1.43.59L10.3 9.45l-7.72 7.72c-.78.78-.78 2.05 0 2.83L4 21.41c.39.39.9.59 1.41.59.51 0 1.02-.2 1.41-.59l7.78-7.78 2.81-2.81c.8-.78.8-2.07 0-2.86zM5.41 20L4 18.59l7.72-7.72 1.47 1.35L5.41 20z\"/>\n",
              "  </svg>\n",
              "      </button>\n",
              "      \n",
              "  <style>\n",
              "    .colab-df-container {\n",
              "      display:flex;\n",
              "      flex-wrap:wrap;\n",
              "      gap: 12px;\n",
              "    }\n",
              "\n",
              "    .colab-df-convert {\n",
              "      background-color: #E8F0FE;\n",
              "      border: none;\n",
              "      border-radius: 50%;\n",
              "      cursor: pointer;\n",
              "      display: none;\n",
              "      fill: #1967D2;\n",
              "      height: 32px;\n",
              "      padding: 0 0 0 0;\n",
              "      width: 32px;\n",
              "    }\n",
              "\n",
              "    .colab-df-convert:hover {\n",
              "      background-color: #E2EBFA;\n",
              "      box-shadow: 0px 1px 2px rgba(60, 64, 67, 0.3), 0px 1px 3px 1px rgba(60, 64, 67, 0.15);\n",
              "      fill: #174EA6;\n",
              "    }\n",
              "\n",
              "    [theme=dark] .colab-df-convert {\n",
              "      background-color: #3B4455;\n",
              "      fill: #D2E3FC;\n",
              "    }\n",
              "\n",
              "    [theme=dark] .colab-df-convert:hover {\n",
              "      background-color: #434B5C;\n",
              "      box-shadow: 0px 1px 3px 1px rgba(0, 0, 0, 0.15);\n",
              "      filter: drop-shadow(0px 1px 2px rgba(0, 0, 0, 0.3));\n",
              "      fill: #FFFFFF;\n",
              "    }\n",
              "  </style>\n",
              "\n",
              "      <script>\n",
              "        const buttonEl =\n",
              "          document.querySelector('#df-6b595f68-c95d-4baf-b49e-ff02d7971522 button.colab-df-convert');\n",
              "        buttonEl.style.display =\n",
              "          google.colab.kernel.accessAllowed ? 'block' : 'none';\n",
              "\n",
              "        async function convertToInteractive(key) {\n",
              "          const element = document.querySelector('#df-6b595f68-c95d-4baf-b49e-ff02d7971522');\n",
              "          const dataTable =\n",
              "            await google.colab.kernel.invokeFunction('convertToInteractive',\n",
              "                                                     [key], {});\n",
              "          if (!dataTable) return;\n",
              "\n",
              "          const docLinkHtml = 'Like what you see? Visit the ' +\n",
              "            '<a target=\"_blank\" href=https://colab.research.google.com/notebooks/data_table.ipynb>data table notebook</a>'\n",
              "            + ' to learn more about interactive tables.';\n",
              "          element.innerHTML = '';\n",
              "          dataTable['output_type'] = 'display_data';\n",
              "          await google.colab.output.renderOutput(dataTable, element);\n",
              "          const docLink = document.createElement('div');\n",
              "          docLink.innerHTML = docLinkHtml;\n",
              "          element.appendChild(docLink);\n",
              "        }\n",
              "      </script>\n",
              "    </div>\n",
              "  </div>\n",
              "  "
            ]
          },
          "metadata": {},
          "execution_count": 21
        }
      ]
    },
    {
      "cell_type": "code",
      "source": [],
      "metadata": {
        "id": "G4RN8zCgXJOv"
      },
      "execution_count": null,
      "outputs": []
    },
    {
      "cell_type": "markdown",
      "source": [
        "The next step is to read in the ACS 2017 data and format it into a usuable table."
      ],
      "metadata": {
        "id": "xsGRTdTOLLab"
      }
    }
  ]
}